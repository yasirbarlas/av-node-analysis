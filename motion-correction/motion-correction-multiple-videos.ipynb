{
 "cells": [
  {
   "cell_type": "markdown",
   "id": "240344b2-11a3-42a6-b5c9-72201c580fd1",
   "metadata": {},
   "source": [
    "# Motion Correction using CaImAn (Multiple Videos)"
   ]
  },
  {
   "cell_type": "markdown",
   "id": "4e2dab68-68f6-4acc-bf5c-f62b77eba0fb",
   "metadata": {},
   "source": [
    "This notebook performs piecewise rigid registration in order to correct motion in multiple videos. It is a modified version of the work published by the Flatiron Institute: https://github.com/flatironinstitute/CaImAn/blob/main/demos/notebooks/demo_motion_correction.ipynb."
   ]
  },
  {
   "cell_type": "markdown",
   "id": "a4b7e4f0-1105-4312-8f00-29367b70157a",
   "metadata": {},
   "source": [
    "Most of the libraries used can be easily installed through Anaconda or by using the \"pip install\" command. A tutorial on installing CaImAn can be found here: https://caiman.readthedocs.io/en/latest/Installation.html."
   ]
  },
  {
   "cell_type": "code",
   "execution_count": null,
   "id": "c3c5dd4a-f14e-4d31-9871-637af8f0b8d0",
   "metadata": {},
   "outputs": [],
   "source": [
    "import cv2\n",
    "import matplotlib.pyplot as plt\n",
    "import numpy as np\n",
    "import os.path\n",
    "import logging\n",
    "import os\n",
    "\n",
    "# Set the directory to where you would like the final motion corrected videos to be\n",
    "os.chdir('C:\\\\Users\\\\user1\\\\Documents\\\\Motion Corrected')\n",
    "\n",
    "try:\n",
    "    cv2.setNumThreads(0)\n",
    "except:\n",
    "    pass\n",
    "\n",
    "try:\n",
    "    if __IPYTHON__:\n",
    "        get_ipython().magic('load_ext autoreload')\n",
    "        get_ipython().magic('autoreload 2')\n",
    "except NameError:\n",
    "    pass\n",
    "\n",
    "logging.basicConfig(format=\n",
    "                          \"%(relativeCreated)12d [%(filename)s:%(funcName)20s():%(lineno)s] [%(process)d] %(message)s\",\n",
    "                    # filename=\"/tmp/caiman.log\",\n",
    "                    level=logging.DEBUG)\n",
    "\n",
    "import caiman as cm\n",
    "from caiman.motion_correction import MotionCorrect, tile_and_correct, motion_correction_piecewise\n",
    "from caiman.utils.utils import download_demo"
   ]
  },
  {
   "cell_type": "code",
   "execution_count": null,
   "id": "bbd182d4-1723-4bbb-af85-bf1d4a0859bf",
   "metadata": {},
   "outputs": [],
   "source": [
    "max_shifts = (6, 6)  # maximum allowed rigid shift in pixels (view the movie to get a sense of motion)\n",
    "strides =  (48, 48)  # create a new patch every x pixels for pw-rigid correction\n",
    "overlaps = (24, 24)  # overlap between pathes (size of patch strides+overlaps)\n",
    "max_deviation_rigid = 3   # maximum deviation allowed for patch with respect to rigid shifts\n",
    "pw_rigid = False  # flag for performing rigid or piecewise rigid motion correction\n",
    "shifts_opencv = True  # flag for correcting motion using bicubic interpolation (otherwise FFT interpolation is used)\n",
    "border_nan = 'copy'  # replicate values along the boundary (if True, fill in with NaN)"
   ]
  },
  {
   "cell_type": "code",
   "execution_count": null,
   "id": "7f572a7c-2a2c-42ce-a6a5-1f34366c0a41",
   "metadata": {},
   "outputs": [],
   "source": [
    "# start the cluster (if a cluster already exists terminate it)\n",
    "if 'dview' in locals():\n",
    "    cm.stop_server(dview=dview)\n",
    "c, dview, n_processes = cm.cluster.setup_cluster(\n",
    "    backend='local', n_processes=None, single_thread=False)"
   ]
  },
  {
   "cell_type": "code",
   "execution_count": null,
   "id": "b0945a4b-5755-4024-b8ee-7a503a2091ad",
   "metadata": {},
   "outputs": [],
   "source": [
    "# Enter filenames without extension (we assume .tif is the extension, your video should be converted to an appropriate type accepted by CaImAn)\n",
    "vid_to_correct = [\"video1\",\"video2\",\"video3\",\"video4\",\"video5\",\"video6\"]\n",
    "for video in vid_to_correct:\n",
    "    fnames = f\"{video}.tif\"\n",
    "    filen = video\n",
    "    fnames = [download_demo(fnames)]     # the file will be downloaded if it doesn't already exist\n",
    "    m_orig = cm.load_movie_chain(fnames)\n",
    "    \n",
    "    # create a motion correction object\n",
    "    mc = MotionCorrect(fnames, dview=dview, max_shifts=max_shifts,\n",
    "                  strides=strides, overlaps=overlaps,\n",
    "                  max_deviation_rigid=max_deviation_rigid, \n",
    "                  shifts_opencv=shifts_opencv, nonneg_movie=True,\n",
    "                  border_nan=border_nan)\n",
    "\n",
    "    # correct for rigid motion correction and save the file (in memory mapped form)\n",
    "    mc.motion_correct(save_movie=True)\n",
    "    # load motion corrected movie\n",
    "    m_rig = cm.load(mc.mmap_file)\n",
    "    bord_px_rig = np.ceil(np.max(mc.shifts_rig)).astype(int)\n",
    "\n",
    "    # motion correct piecewise rigid\n",
    "    mc.pw_rigid = True  # turn the flag to True for pw-rigid motion correction\n",
    "    mc.template = mc.mmap_file  # use the template obtained before to save in computation (optional)\n",
    "\n",
    "    mc.motion_correct(save_movie=True, template=mc.total_template_rig)\n",
    "    m_els = cm.load(mc.fname_tot_els)\n",
    "\n",
    "    # Save the video as a .tif file (with an appropriate filename)\n",
    "    output_tif_filename = f\"{filen}_corrected.tif\"\n",
    "    m_els.save(output_tif_filename)"
   ]
  },
  {
   "cell_type": "code",
   "execution_count": null,
   "id": "f0178db7-cb5a-4c9d-b9ce-0631436a9b23",
   "metadata": {},
   "outputs": [],
   "source": [
    "# You can choose to use a software package such as ImageJ/Fiji to visualise the corrected videos\n",
    "# Alternatively, follow the methods to visualise the videos in the CaImAn documentation"
   ]
  }
 ],
 "metadata": {
  "kernelspec": {
   "display_name": "Python 3 (ipykernel)",
   "language": "python",
   "name": "python3"
  },
  "language_info": {
   "codemirror_mode": {
    "name": "ipython",
    "version": 3
   },
   "file_extension": ".py",
   "mimetype": "text/x-python",
   "name": "python",
   "nbconvert_exporter": "python",
   "pygments_lexer": "ipython3",
   "version": "3.10.9"
  }
 },
 "nbformat": 4,
 "nbformat_minor": 5
}
